{
 "cells": [
  {
   "cell_type": "code",
   "execution_count": 1,
   "metadata": {},
   "outputs": [],
   "source": [
    "import pandas as pd\n",
    "import numpy as np\n",
    "from IPython.display import Markdown, display\n",
    "\n",
    "import os"
   ]
  },
  {
   "cell_type": "code",
   "execution_count": 5,
   "metadata": {},
   "outputs": [],
   "source": [
    "data_path = '~/Documents/personal/2022/vestiaire/predict_category/events.log'\n",
    "md_path = '~/Documents/personal/2022/vestiaire/predict_category/Readme.md'"
   ]
  },
  {
   "cell_type": "code",
   "execution_count": 7,
   "metadata": {},
   "outputs": [],
   "source": [
    "df = pd.read_json(data_path, lines=True)"
   ]
  },
  {
   "cell_type": "code",
   "execution_count": 8,
   "metadata": {},
   "outputs": [],
   "source": [
    "path = '~/Documents/personal/github-projects/vestiaire-search-assignment/'\n",
    "\n",
    "os.chdir(path)"
   ]
  },
  {
   "cell_type": "code",
   "execution_count": 9,
   "metadata": {},
   "outputs": [],
   "source": [
    "from src.query import QueryToCategory"
   ]
  },
  {
   "cell_type": "code",
   "execution_count": 10,
   "metadata": {},
   "outputs": [],
   "source": [
    "q =QueryToCategory()"
   ]
  },
  {
   "cell_type": "code",
   "execution_count": 12,
   "metadata": {},
   "outputs": [],
   "source": [
    "test = df.query(\"category.notna() and title.notna()\")[['title', 'category']].copy()\n",
    "#print(qy)"
   ]
  },
  {
   "cell_type": "code",
   "execution_count": 13,
   "metadata": {},
   "outputs": [],
   "source": [
    "test['predicted'] = test['title'].apply(q.search)"
   ]
  },
  {
   "cell_type": "code",
   "execution_count": 14,
   "metadata": {},
   "outputs": [],
   "source": [
    "test['predicted'] = test['predicted'].apply(lambda x: x[0][0])"
   ]
  },
  {
   "cell_type": "code",
   "execution_count": 19,
   "metadata": {},
   "outputs": [
    {
     "name": "stdout",
     "output_type": "stream",
     "text": [
      "Model accuracy: 0.9320175438596491\n"
     ]
    }
   ],
   "source": [
    "acc= (test['category'] == test['predicted']).sum() / test.shape[0]\n",
    "print(f'Model accuracy: {acc}')"
   ]
  },
  {
   "cell_type": "code",
   "execution_count": 23,
   "metadata": {},
   "outputs": [
    {
     "name": "stdout",
     "output_type": "stream",
     "text": [
      "wool: [('watches', 2.1950955188395943e-06), ('pants', 2.1950281574980487e-06), ('jewellery', 2.1946830028717908e-06), ('coats', 2.1944961867104923e-06), ('dresses', 2.1941101803547327e-06), ('bags', 2.1940961206287777e-06), ('shoes', 2.193597455480398e-06)]\n",
      "\n",
      "wool dfdfsd: [('watches', 2.1950955188395943e-06), ('pants', 2.1950281574980487e-06), ('jewellery', 2.1946830028717908e-06), ('coats', 2.1944961867104923e-06), ('dresses', 2.1941101803547327e-06), ('bags', 2.1940961206287777e-06), ('shoes', 2.193597455480398e-06)]\n",
      "\n",
      "pant: [('pants', 3.222585200221184)]\n",
      "\n"
     ]
    }
   ],
   "source": [
    "# unseen queries\n",
    "queries = ['wool', 'wool dfdfsd', 'pant']\n",
    "for qs in queries:\n",
    "    print(f'{qs}: {q.search(qs)}')\n",
    "    print()"
   ]
  },
  {
   "cell_type": "code",
   "execution_count": null,
   "metadata": {},
   "outputs": [],
   "source": []
  },
  {
   "cell_type": "code",
   "execution_count": null,
   "metadata": {},
   "outputs": [],
   "source": []
  },
  {
   "cell_type": "code",
   "execution_count": null,
   "metadata": {},
   "outputs": [],
   "source": []
  }
 ],
 "metadata": {
  "kernelspec": {
   "display_name": "ncr-loki-kernel",
   "language": "python",
   "name": "ncr-loki"
  },
  "language_info": {
   "codemirror_mode": {
    "name": "ipython",
    "version": 3
   },
   "file_extension": ".py",
   "mimetype": "text/x-python",
   "name": "python",
   "nbconvert_exporter": "python",
   "pygments_lexer": "ipython3",
   "version": "3.9.7"
  }
 },
 "nbformat": 4,
 "nbformat_minor": 4
}
